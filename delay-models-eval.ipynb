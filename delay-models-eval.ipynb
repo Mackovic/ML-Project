{
 "cells": [
  {
   "cell_type": "code",
   "execution_count": 1,
   "metadata": {},
   "outputs": [],
   "source": [
    "import pandas as pd\n",
    "from sklearn.linear_model import LinearRegression\n",
    "from sklearn.neural_network import MLPRegressor\n",
    "from sklearn.tree import DecisionTreeRegressor\n",
    "from sklearn.ensemble import RandomForestRegressor\n",
    "from sklearn.svm import SVR\n",
    "from sklearn.gaussian_process import GaussianProcessRegressor\n",
    "from sklearn.model_selection import train_test_split\n",
    "from sklearn.metrics import r2_score, mean_absolute_error\n",
    "import pandas as pd\n",
    "import matplotlib.pyplot as plt\n",
    "import seaborn as sns\n",
    "\n",
    "models = {}\n",
    "models['Linear Regression'] = LinearRegression()\n",
    "models['Neural Network'] = MLPRegressor()\n",
    "models['Decision Tree'] = DecisionTreeRegressor()\n",
    "models['Random Forest'] = RandomForestRegressor()\n",
    "models['Support Vector Machine'] = SVR()\n",
    "models['Gaussian Process'] = GaussianProcessRegressor()\n",
    "\n",
    "R2, MAE = {}, {}\n",
    "\n",
    "data = pd.read_csv(\"DelayedFlights.csv\")[:25000]\n",
    "delay_cols = [\"Month\", \"DayofMonth\", \"DayOfWeek\", \"DepTime\", \"Distance\"]\n",
    "\n",
    "X = data[delay_cols]\n",
    "y = data.DepDelay\n",
    "\n",
    "X_train, X_valid, y_train, y_valid = train_test_split(X, y)\n",
    "\n",
    "for key in models.keys():\n",
    "    models[key].fit(X_train, y_train)\n",
    "    predictions = models[key].predict(X_valid)\n",
    "    R2[key] = r2_score(y_valid, predictions)\n",
    "    MAE[key] = mean_absolute_error(y_valid, predictions)\n",
    "\n",
    "df_model = pd.DataFrame(index=models.keys(), columns=['R2', 'MAE'])\n",
    "df_model['R2'] = R2.values()\n",
    "df_model['MAE'] = MAE.values()\n",
    "\n"
   ]
  },
  {
   "cell_type": "code",
   "execution_count": 2,
   "metadata": {},
   "outputs": [
    {
     "data": {
      "text/plain": [
       "<AxesSubplot:ylabel='R2'>"
      ]
     },
     "execution_count": 2,
     "metadata": {},
     "output_type": "execute_result"
    },
    {
     "data": {
      "image/png": "[encoded data removed]",
      "text/plain": [
       "<Figure size 432x288 with 1 Axes>"
      ]
     },
     "metadata": {
      "needs_background": "light"
     },
     "output_type": "display_data"
    }
   ],
   "source": [
    "plt.figure(figsize=(15,6))\n",
    "sns.barplot(x=df_model.index, y=df_model['R2'])"
   ]
  },
  {
   "cell_type": "code",
   "execution_count": 3,
   "metadata": {},
   "outputs": [
    {
     "data": {
      "text/plain": [
       "<AxesSubplot:ylabel='MAE'>"
      ]
     },
     "execution_count": 3,
     "metadata": {},
     "output_type": "execute_result"
    },
    {
     "data": {
      "image/png": "[encoded data removed]",
      "text/plain": [
       "<Figure size 432x288 with 1 Axes>"
      ]
     },
     "metadata": {
      "needs_background": "light"
     },
     "output_type": "display_data"
    }
   ],
   "source": [
    "plt.figure(figsize=(15,6))\n",
    "sns.barplot(x=df_model.index, y=df_model['MAE'])"
   ]
  }
 ],
 "metadata": {
  "kernelspec": {
   "display_name": "Python 3.10.5 64-bit",
   "language": "python",
   "name": "python3"
  },
  "language_info": {
   "codemirror_mode": {
    "name": "ipython",
    "version": 3
   },
   "file_extension": ".py",
   "mimetype": "text/x-python",
   "name": "python",
   "nbconvert_exporter": "python",
   "pygments_lexer": "ipython3",
   "version": "3.10.5"
  },
  "orig_nbformat": 4,
  "vscode": {
   "interpreter": {
    "hash": "3e15957421242eb5c5ccdc5502a1b8df3777eea90a7e3a724e3b363ed01b258b"
   }
  }
 },
 "nbformat": 4,
 "nbformat_minor": 2
}
